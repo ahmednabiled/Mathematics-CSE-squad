{
 "cells": [
  {
   "cell_type": "markdown",
   "metadata": {},
   "source": [
    "### Factorization :\n",
    "\n",
    "\n",
    "Decompose number to set of multiplied numbers \n",
    "\n",
    "$300 = 4 * 3 * 25$ "
   ]
  },
  {
   "cell_type": "markdown",
   "metadata": {},
   "source": [
    "`Fundamental throrm of arithmitic :`\\\n",
    "_Unique prime factorization theorm_"
   ]
  },
  {
   "cell_type": "markdown",
   "metadata": {},
   "source": [
    "_States_: \\\n",
    "Every integer greater than 1 is a prime or product of primes"
   ]
  },
  {
   "cell_type": "markdown",
   "metadata": {},
   "source": [
    "_Example_\\\n",
    "$300 = 2^{2} * 3 * 5^{2}$"
   ]
  },
  {
   "cell_type": "code",
   "execution_count": 9,
   "metadata": {},
   "outputs": [],
   "source": [
    "def gen_divisors(n : int) -> list[int]:\n",
    "    divs = []\n",
    "    i = 1\n",
    "    while i*i < n:\n",
    "        if(n % i == 0):\n",
    "            divs.append(i)\n",
    "            divs.append(int(n/i))\n",
    "        i += 1\n",
    "    if (i*i == n):\n",
    "        divs.append(i)\n",
    "    return divs"
   ]
  },
  {
   "cell_type": "code",
   "execution_count": 10,
   "metadata": {},
   "outputs": [
    {
     "data": {
      "text/plain": [
       "[1, 100, 2, 50, 4, 25, 5, 20, 10]"
      ]
     },
     "execution_count": 10,
     "metadata": {},
     "output_type": "execute_result"
    }
   ],
   "source": [
    "gen_divisors(100)"
   ]
  },
  {
   "cell_type": "markdown",
   "metadata": {},
   "source": [
    "### Prime Factorization"
   ]
  },
  {
   "cell_type": "code",
   "execution_count": 11,
   "metadata": {},
   "outputs": [],
   "source": [
    "def prime_factorization(n : int) -> list[int]:\n",
    "    primes = []\n",
    "\n",
    "    i = 2\n",
    "    while i*i <= n :\n",
    "        while n%i == 0:\n",
    "            primes.append(i)\n",
    "            n /= i\n",
    "        i += 1\n",
    "        \n",
    "    if n > 1 :\n",
    "        primes.append(n)\n",
    "\n",
    "    return primes"
   ]
  },
  {
   "cell_type": "code",
   "execution_count": 12,
   "metadata": {},
   "outputs": [
    {
     "data": {
      "text/plain": [
       "[2, 2, 3, 5, 5]"
      ]
     },
     "execution_count": 12,
     "metadata": {},
     "output_type": "execute_result"
    }
   ],
   "source": [
    "prime_factorization(300)"
   ]
  },
  {
   "cell_type": "markdown",
   "metadata": {},
   "source": [
    "`Calculating divisors from primes factors`"
   ]
  },
  {
   "cell_type": "markdown",
   "metadata": {},
   "source": [
    "counting divisors :\n",
    "if we have a number like $16$\\\n",
    "$16 = 2^{4}$ so its divisors are $2^{0}$ , $2^{1}$ , $2^{2}$ , $2^{3}$ , $2^{4}$\n",
    "so we can conclude that:\n",
    "$$ \\text{Number of divisors of } p^{n} = n+1 $$\n",
    "and they are : $p^{0}$ $p^{1}$ $p^{2}$ ...... $p^{n}$\n",
    "where p is a prime number\n",
    "\n",
    "so if we have $p_1^{a}$ and $p_2^{b}$\n",
    "\n",
    "then we can say that their total number of divisors is = $(a+1) * (b+1)$"
   ]
  },
  {
   "cell_type": "code",
   "execution_count": 13,
   "metadata": {},
   "outputs": [],
   "source": [
    "def prime_factorization_mod(n : int) -> list[int]:\n",
    "    '''\n",
    "    get prime factors in the form { prime_factor : power } p^n\n",
    "    '''\n",
    "    primes = {}\n",
    "    i = 2\n",
    "    while i*i <= n :\n",
    "        while n%i == 0:\n",
    "            primes[i] = primes.get(i,0) + 1\n",
    "            n /= i\n",
    "        i += 1\n",
    "    if n > 1 :\n",
    "        primes[n] = 1\n",
    "\n",
    "    return primes"
   ]
  },
  {
   "cell_type": "code",
   "execution_count": 14,
   "metadata": {},
   "outputs": [
    {
     "data": {
      "text/plain": [
       "{2: 2, 3: 1, 5: 2}"
      ]
     },
     "execution_count": 14,
     "metadata": {},
     "output_type": "execute_result"
    }
   ],
   "source": [
    "prime_factorization_mod(300)"
   ]
  },
  {
   "cell_type": "markdown",
   "metadata": {},
   "source": [
    "<div style=\"text-align:center\">  \n",
    "    <img src=\"https://github.com/ahmednabiled/Mathematics-CSE-squad/blob/main/Number%20theory/images/factorization/fact1.png?raw=true\" alt=\"Fact1\" style=\"width:60%;\">\n",
    "</div>"
   ]
  },
  {
   "cell_type": "markdown",
   "metadata": {},
   "source": [
    "`Calualting the number of divisors :`"
   ]
  },
  {
   "cell_type": "markdown",
   "metadata": {},
   "source": [
    "<div style=\"text-align:center\">  \n",
    "    <img src=\"https://github.com/ahmednabiled/Mathematics-CSE-squad/blob/main/Number%20theory/images/factorization/fact2.png?raw=true\" alt=\"Fact1\" style=\"width:60%;\">\n",
    "</div>"
   ]
  },
  {
   "cell_type": "code",
   "execution_count": 16,
   "metadata": {},
   "outputs": [
    {
     "data": {
      "text/plain": [
       "18"
      ]
     },
     "execution_count": 16,
     "metadata": {},
     "output_type": "execute_result"
    }
   ],
   "source": [
    "len(gen_divisors(300))"
   ]
  },
  {
   "cell_type": "markdown",
   "metadata": {},
   "source": [
    "`Generating Functions from a dic in the form { p1 : power , p2 : power2 ,...}`"
   ]
  },
  {
   "cell_type": "code",
   "execution_count": 17,
   "metadata": {},
   "outputs": [],
   "source": [
    "def generate_divisors_recursively(prime_factors: dict) -> list:\n",
    "    def helper(factors, index, current_divisor, divisors):\n",
    "        if index == len(factors):\n",
    "            divisors.append(current_divisor)\n",
    "            return\n",
    "        prime, power = factors[index]\n",
    "        for exp in range(power + 1):\n",
    "            helper(factors, index + 1, current_divisor * (prime ** exp), divisors)\n",
    "\n",
    "    divisors = []\n",
    "    factors = list(prime_factors.items())\n",
    "    helper(factors, 0, 1, divisors)\n",
    "    return sorted(divisors)"
   ]
  },
  {
   "cell_type": "code",
   "execution_count": 18,
   "metadata": {},
   "outputs": [
    {
     "data": {
      "text/plain": [
       "[1, 2, 3, 4, 5, 6, 10, 12, 15, 20, 25, 30, 50, 60, 75, 100, 150, 300]"
      ]
     },
     "execution_count": 18,
     "metadata": {},
     "output_type": "execute_result"
    }
   ],
   "source": [
    "generate_divisors_recursively(prime_factorization_mod(300))"
   ]
  },
  {
   "cell_type": "markdown",
   "metadata": {},
   "source": [
    "`Generating an array that has number of divisors for a specific index of size n:`"
   ]
  },
  {
   "cell_type": "code",
   "execution_count": 28,
   "metadata": {},
   "outputs": [],
   "source": [
    "def range_factorization(n: int) -> list[int] :\n",
    "    num_factors = (n+1)*[0]\n",
    "    for i in range(1,n+1):\n",
    "        for j in range(i,n+1,i):\n",
    "            num_factors[j] += 1\n",
    "    return num_factors\n"
   ]
  },
  {
   "cell_type": "code",
   "execution_count": 32,
   "metadata": {},
   "outputs": [
    {
     "name": "stdout",
     "output_type": "stream",
     "text": [
      "18\n"
     ]
    }
   ],
   "source": [
    "print(range_factorization(300)[-1])"
   ]
  },
  {
   "cell_type": "markdown",
   "metadata": {},
   "source": [
    "`Using seive to calculate prime factors of a number n :`"
   ]
  },
  {
   "cell_type": "code",
   "execution_count": 19,
   "metadata": {},
   "outputs": [],
   "source": [
    "def sieve_smallest_prime_divisor(N):\n",
    "    # Step 1: Initialize lists for smallest prime factor (SPF) and prime checks\n",
    "    spf = list(range(N + 1))  # spf[i] will be the smallest prime factor of i\n",
    "    \n",
    "    # Step 2: Use the Sieve of Eratosthenes to fill spf\n",
    "    for i in range(2, int(N**0.5) + 1):\n",
    "        if spf[i] == i:  # i is a prime number\n",
    "            for j in range(i * i, N + 1, i):\n",
    "                if spf[j] == j:  # j has not been marked yet\n",
    "                    spf[j] = i\n",
    "    \n",
    "    return spf\n",
    "\n",
    "def prime_factors(n, spf):\n",
    "    factors = []\n",
    "    while n != 1:\n",
    "        factors.append(spf[n])\n",
    "        n //= spf[n]\n",
    "    return factors"
   ]
  },
  {
   "cell_type": "code",
   "execution_count": 20,
   "metadata": {},
   "outputs": [
    {
     "name": "stdout",
     "output_type": "stream",
     "text": [
      "[2, 2, 3, 5, 5]\n"
     ]
    }
   ],
   "source": [
    "spf = sieve_smallest_prime_divisor(1000)\n",
    "print(prime_factors(300 , spf))"
   ]
  },
  {
   "cell_type": "code",
   "execution_count": null,
   "metadata": {},
   "outputs": [],
   "source": []
  }
 ],
 "metadata": {
  "kernelspec": {
   "display_name": "Python 3",
   "language": "python",
   "name": "python3"
  },
  "language_info": {
   "codemirror_mode": {
    "name": "ipython",
    "version": 3
   },
   "file_extension": ".py",
   "mimetype": "text/x-python",
   "name": "python",
   "nbconvert_exporter": "python",
   "pygments_lexer": "ipython3",
   "version": "3.11.5"
  }
 },
 "nbformat": 4,
 "nbformat_minor": 2
}
