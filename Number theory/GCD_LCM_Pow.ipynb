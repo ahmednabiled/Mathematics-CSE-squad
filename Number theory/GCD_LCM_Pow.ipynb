{
 "cells": [
  {
   "cell_type": "markdown",
   "metadata": {},
   "source": [
    "$\\text{GCD}$ :\n",
    "$\\text{Greatest Comon Divisor}$\n"
   ]
  },
  {
   "cell_type": "markdown",
   "metadata": {},
   "source": [
    "it means that if $\\gcd(45 , 10) = 5$ then $45 \\% 5 = 10 \\% 5 = 0$ and there is no value $n > 5$ \\\n",
    "such that $45\\%n =  10\\%n = 0$"
   ]
  },
  {
   "cell_type": "markdown",
   "metadata": {},
   "source": [
    " $\\text{Notice this observation :}$"
   ]
  },
  {
   "cell_type": "markdown",
   "metadata": {},
   "source": [
    "$\\gcd(45 , 10) = 5$ \\\n",
    "$\\gcd(35 , 10) = 5$ \\\n",
    "$\\gcd(25 , 10) = 5$ \\\n",
    "$\\gcd(15 , 10) = 5$ \\\n",
    "$\\gcd(5 , 10) = 5$ \\\n",
    "$\\gcd(5 , 5) = 5$  \\\n",
    "$\\gcd(5 , 0) = 5$"
   ]
  },
  {
   "cell_type": "markdown",
   "metadata": {},
   "source": [
    "from above we can build an algorithm that calculates the gcd(a,b)"
   ]
  },
  {
   "cell_type": "code",
   "execution_count": 2,
   "metadata": {},
   "outputs": [],
   "source": [
    "def gcd_1(a, b):\n",
    "    # If the first number is zero, return the second number\n",
    "    if a == 0:\n",
    "        return b\n",
    "    \n",
    "    # Continue until the second number becomes zero\n",
    "    while b != 0:\n",
    "        # If the first number is greater than the second number\n",
    "        if a > b:\n",
    "            a = a - b\n",
    "        else:\n",
    "            b = b - a\n",
    "    \n",
    "    # Return the first number, which is the GCD\n",
    "    return a"
   ]
  },
  {
   "cell_type": "markdown",
   "metadata": {},
   "source": [
    "Wait: We just keep removing the small from the big, the big number turn to be the smaller, and then do reverse \\\n",
    "How to do this switch fast? $\\gcd(45, 10) = \\gcd(45\\%10, 10)$ -> simply remove smaller cycles in 1 step \\\n",
    "Then code easily became\n"
   ]
  },
  {
   "cell_type": "code",
   "execution_count": 1,
   "metadata": {},
   "outputs": [],
   "source": [
    "def gcd_2(a , b):\n",
    "    if b == 0 :\n",
    "        return a\n",
    "    return gcd_2(b , a%b)"
   ]
  },
  {
   "cell_type": "markdown",
   "metadata": {},
   "source": [
    "$\\text{LCM}$ :\n",
    "$\\text{Least Common Multiple}$"
   ]
  },
  {
   "cell_type": "markdown",
   "metadata": {},
   "source": [
    "That is the first multiple of the 2 numbers. \\\n",
    "Let's do some prime representation for numbers a, b \\\n",
    "    $$a = 2^{3} * 7^{6}$$\n",
    "    $$b = 2^{5} * 7^{2}$$ \n",
    "to get gcd, we need min of powers of 2 and min of powers of 7\\\n",
    "    $$\\gcd = 2^{\\min(3, 5)} * 7^{\\min(6, 2)}$$\n",
    "what about lcm? we need max\\\n",
    "    $$\\text{lcm} = 2^{\\max(3, 5)} * 7^{\\max(6, 2)}$$\\\n",
    "given a, b, and gcd(a, b) how to get lcm(a, b)\\\n",
    "what about        \n",
    "$$a*b = 2^{(3+5)} * 7^{(6+2)}$$\n",
    "and we know that  \n",
    "$$\\gcd = 2^{\\min(3, 5)} * 7^{\\min(6, 2)}$$\n",
    "then $\\text{lcm} = a*b / \\gcd$."
   ]
  },
  {
   "cell_type": "markdown",
   "metadata": {},
   "source": [
    "<div style=\"text-align:center\">  \n",
    "    <img src=\".\\images\\gcd\\lcm.png\" alt=\"Fact1\" style=\"width:80%;\">\n",
    "</div>"
   ]
  },
  {
   "cell_type": "code",
   "execution_count": 3,
   "metadata": {},
   "outputs": [],
   "source": [
    "def lcm(a,b):\n",
    "    return (a*b) // gcd_2(a,b) "
   ]
  },
  {
   "cell_type": "code",
   "execution_count": null,
   "metadata": {},
   "outputs": [],
   "source": []
  }
 ],
 "metadata": {
  "kernelspec": {
   "display_name": "Python 3",
   "language": "python",
   "name": "python3"
  },
  "language_info": {
   "codemirror_mode": {
    "name": "ipython",
    "version": 3
   },
   "file_extension": ".py",
   "mimetype": "text/x-python",
   "name": "python",
   "nbconvert_exporter": "python",
   "pygments_lexer": "ipython3",
   "version": "3.12.4"
  }
 },
 "nbformat": 4,
 "nbformat_minor": 2
}
