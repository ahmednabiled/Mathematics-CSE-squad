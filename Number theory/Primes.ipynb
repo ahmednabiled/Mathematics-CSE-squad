{
 "cells": [
  {
   "cell_type": "markdown",
   "metadata": {
    "vscode": {
     "languageId": "latex"
    }
   },
   "source": [
    "# Prime Numbers\n",
    "1. What is a prime number?\n",
    "2. Trail division algorithm\n",
    "3. Sieve of eratosthenes algorithm \n",
    "4. Dijkstra's prime finding algorithm\n",
    "5. Resources"
   ]
  },
  {
   "cell_type": "markdown",
   "metadata": {},
   "source": [
    "# 1. What is a prime number?\n",
    "A prime number is a natural number greater than 1 that has no positive divisors other than 1 and itself."
   ]
  },
  {
   "cell_type": "markdown",
   "metadata": {
    "vscode": {
     "languageId": "plaintext"
    }
   },
   "source": [
    "# 2. Trail division algorithm\n",
    "So from definition above we can construct a simple algorithm that checks if a number is prime or not"
   ]
  },
  {
   "cell_type": "code",
   "execution_count": 4,
   "metadata": {},
   "outputs": [],
   "source": [
    "# This algorithm runs in O(n)\n",
    "def is_primeI(n):\n",
    "    # If the number is less than 2, it's not prime\n",
    "    if n < 2:\n",
    "        return False\n",
    "    \n",
    "    # Check if n is divisible by any number from 2 to n\n",
    "    # If it is, then it's not prime\n",
    "    for i in range(2 , n):\n",
    "        if n % i == 0:\n",
    "            return False\n",
    "    \n",
    "    # If no divisor is found, then the number is prime\n",
    "    return True"
   ]
  },
  {
   "cell_type": "code",
   "execution_count": 12,
   "metadata": {},
   "outputs": [
    {
     "name": "stdout",
     "output_type": "stream",
     "text": [
      "False\n"
     ]
    }
   ],
   "source": [
    "print(is_primeI(4))"
   ]
  },
  {
   "cell_type": "markdown",
   "metadata": {},
   "source": [
    "# 2.1 Enhancing the algorithm\n",
    "We can modify the last algorithm slightly to improve its efficiency.\n",
    "Since all even numbers except 2 are not prime, we can start the algorithm by handling all even numbers first.\n",
    "Then, instead of incrementing by 1, we can increment by 2 because we're only dealing with odd numbers after that."
   ]
  },
  {
   "cell_type": "markdown",
   "metadata": {},
   "source": [
    "![image](\\images\\primes1.png)"
   ]
  },
  {
   "cell_type": "code",
   "execution_count": 15,
   "metadata": {},
   "outputs": [],
   "source": [
    "def is_primeII(n):\n",
    "    if n == 2:\n",
    "        return True\n",
    "    if n < 2 or n % 2 == 0:\n",
    "        return False\n",
    "    \n",
    "    for i in range(3, n ,2):\n",
    "        if n % i == 0:\n",
    "            return False\n",
    "    return True"
   ]
  },
  {
   "cell_type": "code",
   "execution_count": 21,
   "metadata": {},
   "outputs": [
    {
     "name": "stdout",
     "output_type": "stream",
     "text": [
      "False\n"
     ]
    }
   ],
   "source": [
    "print(is_primeII(18))"
   ]
  },
  {
   "cell_type": "markdown",
   "metadata": {},
   "source": [
    "We can limit number of iterations to be $\\frac{n}{2}$ as if we divide $n$ by a bigger value than its half we won't get an integer\n",
    "and that means no divisors in this intevral."
   ]
  },
  {
   "cell_type": "markdown",
   "metadata": {},
   "source": [
    "![A cute cat](\\images\\prime2.png)"
   ]
  },
  {
   "cell_type": "code",
   "execution_count": 1,
   "metadata": {},
   "outputs": [],
   "source": [
    "def is_primeIII(n):\n",
    "    if n == 2:\n",
    "        return True\n",
    "    if n < 2 or n % 2 == 0:\n",
    "        return False\n",
    "    \n",
    "    for i in range(3, int(n/2)+1 ,2): # added one because we want the half to be included\n",
    "        if n % i == 0:\n",
    "            return False\n",
    "    return True"
   ]
  },
  {
   "cell_type": "markdown",
   "metadata": {},
   "source": [
    "The last modification we can apply to this algorithm is changing the limit of iterations to $\\sqrt{n}$\n",
    "so now this algorithm is called Trail division algorithm"
   ]
  },
  {
   "cell_type": "code",
   "execution_count": 2,
   "metadata": {},
   "outputs": [],
   "source": [
    "def is_primeIV(n):# This algorithm runs in O(sqrt(n))\n",
    "    if n == 2:\n",
    "        return True\n",
    "    if n < 2 or n % 2 == 0:\n",
    "        return False\n",
    "    i = 3\n",
    "    while(i*i <= n):\n",
    "        if n%i == 0:\n",
    "            return False\n",
    "        i += 2\n",
    "    return True"
   ]
  },
  {
   "cell_type": "code",
   "execution_count": 4,
   "metadata": {},
   "outputs": [
    {
     "name": "stdout",
     "output_type": "stream",
     "text": [
      "True\n"
     ]
    }
   ],
   "source": [
    "print(is_primeIV(13))"
   ]
  },
  {
   "cell_type": "markdown",
   "metadata": {},
   "source": [
    "So now we talked about Trail division algorithm and it is really good and clever algorithm it's main key advantage is it's space complexitiy is not demanding but it's time complexitity is quite high compareing it to Sieve of eratosthenes algorithm it's more space demanding but it's so much faster"
   ]
  },
  {
   "cell_type": "markdown",
   "metadata": {},
   "source": [
    "![image](\\images\\primes6.png)"
   ]
  },
  {
   "cell_type": "markdown",
   "metadata": {},
   "source": [
    "as you can see this is the difference between the time that Trail division takes and seive algorithm when generating an array of primes numbers in a specified range $n$ for example"
   ]
  },
  {
   "cell_type": "markdown",
   "metadata": {},
   "source": [
    "# 3. Sieve of eratosthenes algorithm "
   ]
  },
  {
   "cell_type": "markdown",
   "metadata": {},
   "source": [
    "So now talking about seive algorithm first we will try to understand how it works then we will look at the code implementation"
   ]
  },
  {
   "cell_type": "markdown",
   "metadata": {},
   "source": [
    "![image](\\images\\primes5m.gif)"
   ]
  },
  {
   "cell_type": "markdown",
   "metadata": {},
   "source": [
    "# How it works\n",
    "1.``Initialization:`` Create a list of numbers from 2 (the smallest prime) up to the given limit. Initially, all numbers are considered potentially prime.\\\n",
    "2.``Prime Iteration:`` Iterate through the list, starting with the first prime (2).\\\n",
    "3.``Mark Multiples:`` For the current prime number, mark all its multiples as composite (not prime) in the list. We only need to consider multiples greater than the prime squared, because smaller multiples would have already been marked by previous iterations.\\\n",
    "4.``Next Prime:`` Move on to the next unmarked number in the list. This number is guaranteed to be prime because any multiples of smaller primes would have been marked earlier.\\\n",
    "5.``Repeat:`` Repeat steps 3 and 4 until you reach the end of the list."
   ]
  },
  {
   "cell_type": "code",
   "execution_count": 3,
   "metadata": {},
   "outputs": [],
   "source": [
    "def sieve(n: int) -> list[int]:\n",
    "    if n<= 2:\n",
    "        return []\n",
    "    is_prime = [True] * n\n",
    "    is_prime[0] = False\n",
    "    is_prime[1] = False\n",
    "    i = 2\n",
    "    while(i*i <= n):\n",
    "        if is_prime[i]:\n",
    "            for x in range(i*i, n, i):\n",
    "                is_prime[x] = False\n",
    "        i += 1\n",
    "\n",
    "    return [i for i in range(n) if is_prime[i]]"
   ]
  },
  {
   "cell_type": "code",
   "execution_count": 15,
   "metadata": {},
   "outputs": [
    {
     "name": "stdout",
     "output_type": "stream",
     "text": [
      "[2, 3, 5, 7, 11, 13, 17, 19, 23, 29, 31, 37, 41, 43, 47]\n"
     ]
    }
   ],
   "source": [
    "print(sieve(50))"
   ]
  },
  {
   "cell_type": "markdown",
   "metadata": {},
   "source": [
    "# 4. Dijkstra's prime finding algorithm\n",
    "After talking about sieve and trail division showing their pros and cons it's the time to talk about almost a hodden algorithm and it is Dijkstra's prime finding algorithm it is an icredibily clever algorithm it is in the middel between sieve and trail division."
   ]
  },
  {
   "cell_type": "markdown",
   "metadata": {},
   "source": [
    "![image](\\images\\primes7.png)"
   ]
  },
  {
   "cell_type": "code",
   "execution_count": 14,
   "metadata": {},
   "outputs": [
    {
     "name": "stdout",
     "output_type": "stream",
     "text": [
      "Prime numbers up to 50: [2, 3, 5, 7, 11, 13, 17, 19, 23, 29, 31, 37, 41, 43, 47]\n"
     ]
    }
   ],
   "source": [
    "def dijkstraPrimes(n):\n",
    "    pool = [[4,2]]\n",
    "    primes = [2]\n",
    "    for i in range(3, n):\n",
    "        if min(pool)[0] > i:\n",
    "            pool.append([i**2,i])\n",
    "            primes+=[i]\n",
    "        else:\n",
    "            for pair in pool:\n",
    "                while pair[0] <= i:\n",
    "                    pair[0] += pair[1]\n",
    "    return primes\n",
    "\n",
    "# Example usage\n",
    "max_value = 50\n",
    "primes = dijkstraPrimes(max_value)\n",
    "print(f\"Prime numbers up to {max_value}: {primes}\")\n"
   ]
  },
  {
   "cell_type": "markdown",
   "metadata": {},
   "source": [
    "# Resources"
   ]
  },
  {
   "cell_type": "markdown",
   "metadata": {},
   "source": [
    "1- Video by : [b001](https://www.youtube.com/@b001)\\\n",
    "[Dijkstra's Hidden Prime Finding Algorithm](https://www.youtube.com/watch?v=fwxjMKBMR7s)"
   ]
  },
  {
   "cell_type": "markdown",
   "metadata": {},
   "source": [
    "2- Video by : [Dr.Mostafa Saad](https://www.youtube.com/@ArabicCompetitiveProgramming)\\\n",
    "[Number Theory - Primes (Arabic)](https://www.youtube.com/watch?v=VZBfW08ECgA&list=PLPt2dINI2MIY7l5zyFd1W28rei3b-AXaJ&index=3)"
   ]
  },
  {
   "cell_type": "markdown",
   "metadata": {},
   "source": [
    "3- Article on : [Reddit](https://www.reddit.com/)\\\n",
    "[DijkstraPrimes code](https://www.reddit.com/r/learnprogramming/comments/1apk2dk/help_needed_with_recreating_dijkstras_prime/?rdt=51365)"
   ]
  },
  {
   "cell_type": "markdown",
   "metadata": {},
   "source": [
    "4- Video by : [mcoding](https://www.youtube.com/@mCoding)\\\n",
    "[Finding Primes in Python with the Sieve of Eratosthenes](https://www.youtube.com/watch?v=JA_YrFwE1hc)"
   ]
  },
  {
   "cell_type": "markdown",
   "metadata": {},
   "source": [
    "5- Wikipedia : https://en.wikipedia.org/wiki/Sieve_of_Eratosthenes\n"
   ]
  }
 ],
 "metadata": {
  "kernelspec": {
   "display_name": "Python 3",
   "language": "python",
   "name": "python3"
  },
  "language_info": {
   "codemirror_mode": {
    "name": "ipython",
    "version": 3
   },
   "file_extension": ".py",
   "mimetype": "text/x-python",
   "name": "python",
   "nbconvert_exporter": "python",
   "pygments_lexer": "ipython3",
   "version": "3.11.8"
  }
 },
 "nbformat": 4,
 "nbformat_minor": 2
}
