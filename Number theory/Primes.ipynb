{
 "cells": [
  {
   "cell_type": "markdown",
   "metadata": {
    "vscode": {
     "languageId": "latex"
    }
   },
   "source": [
    "# Prime Numbers\n",
    "1. What is a prime number?\n",
    "2. Trail division algorithm\n",
    "3. Sieve of eratosthenes algorithm \n",
    "4. Dijkstra's prime finding algorithm"
   ]
  },
  {
   "cell_type": "markdown",
   "metadata": {},
   "source": [
    "# 1. What is a prime number?\n",
    "A prime number is a natural number greater than 1 that has no positive divisors other than 1 and itself."
   ]
  },
  {
   "cell_type": "markdown",
   "metadata": {
    "vscode": {
     "languageId": "plaintext"
    }
   },
   "source": [
    "# 2. Trail division algorithm\n",
    "So from definition above we can construct a simple algorithm that checks if a number is prime or not"
   ]
  },
  {
   "cell_type": "code",
   "execution_count": 4,
   "metadata": {},
   "outputs": [],
   "source": [
    "# This algorithm runs in O(n)\n",
    "def is_primeI(n):\n",
    "    # If the number is less than 2, it's not prime\n",
    "    if n < 2:\n",
    "        return False\n",
    "    \n",
    "    # Check if n is divisible by any number from 2 to n\n",
    "    # If it is, then it's not prime\n",
    "    for i in range(2 , n):\n",
    "        if n % i == 0:\n",
    "            return False\n",
    "    \n",
    "    # If no divisor is found, then the number is prime\n",
    "    return True"
   ]
  },
  {
   "cell_type": "code",
   "execution_count": 12,
   "metadata": {},
   "outputs": [
    {
     "name": "stdout",
     "output_type": "stream",
     "text": [
      "False\n"
     ]
    }
   ],
   "source": [
    "print(is_primeI(4))"
   ]
  },
  {
   "cell_type": "markdown",
   "metadata": {},
   "source": [
    "# 2.1 Enhancing the algorithm\n",
    "We can modify the last algorithm slightly to improve its efficiency.\n",
    "Since all even numbers except 2 are not prime, we can start the algorithm by handling all even numbers first.\n",
    "Then, instead of incrementing by 1, we can increment by 2 because we're only dealing with odd numbers after that."
   ]
  },
  {
   "cell_type": "markdown",
   "metadata": {},
   "source": [
    "![image](\\images\\primes1.png)"
   ]
  },
  {
   "cell_type": "code",
   "execution_count": 15,
   "metadata": {},
   "outputs": [],
   "source": [
    "def is_primeII(n):\n",
    "    if n == 2:\n",
    "        return True\n",
    "    if n < 2 or n % 2 == 0:\n",
    "        return False\n",
    "    \n",
    "    for i in range(3, n ,2):\n",
    "        if n % i == 0:\n",
    "            return False\n",
    "    return True"
   ]
  },
  {
   "cell_type": "code",
   "execution_count": 21,
   "metadata": {},
   "outputs": [
    {
     "name": "stdout",
     "output_type": "stream",
     "text": [
      "False\n"
     ]
    }
   ],
   "source": [
    "print(is_primeII(18))"
   ]
  },
  {
   "cell_type": "markdown",
   "metadata": {},
   "source": [
    "We can limit number of iterations to be $\\frac{n}{2}$ as if we divide $n$ by a bigger value than its half we won't get an integer\n",
    "and that means no divisors in this intevral."
   ]
  },
  {
   "cell_type": "markdown",
   "metadata": {},
   "source": [
    "![A cute cat](\\images\\prime2.png)"
   ]
  },
  {
   "cell_type": "code",
   "execution_count": 1,
   "metadata": {},
   "outputs": [],
   "source": [
    "def is_primeIII(n):\n",
    "    if n == 2:\n",
    "        return True\n",
    "    if n < 2 or n % 2 == 0:\n",
    "        return False\n",
    "    \n",
    "    for i in range(3, int(n/2)+1 ,2): # added one because we want the half to be included\n",
    "        if n % i == 0:\n",
    "            return False\n",
    "    return True"
   ]
  },
  {
   "cell_type": "markdown",
   "metadata": {},
   "source": [
    "the last modification we can apply to this algorithm is changing the limit of iterations to $\\sqrt{n}$"
   ]
  },
  {
   "cell_type": "code",
   "execution_count": 2,
   "metadata": {},
   "outputs": [],
   "source": [
    "def is_primeIV(n):\n",
    "    if n == 2:\n",
    "        return True\n",
    "    if n < 2 or n % 2 == 0:\n",
    "        return False\n",
    "    i = 3\n",
    "    while(i*i <= n):\n",
    "        if n%i == 0:\n",
    "            return False\n",
    "        i += 2\n",
    "    return True"
   ]
  },
  {
   "cell_type": "code",
   "execution_count": 4,
   "metadata": {},
   "outputs": [
    {
     "name": "stdout",
     "output_type": "stream",
     "text": [
      "True\n"
     ]
    }
   ],
   "source": [
    "print(is_primeIV(13))"
   ]
  },
  {
   "cell_type": "code",
   "execution_count": null,
   "metadata": {},
   "outputs": [],
   "source": []
  }
 ],
 "metadata": {
  "kernelspec": {
   "display_name": "Python 3",
   "language": "python",
   "name": "python3"
  },
  "language_info": {
   "codemirror_mode": {
    "name": "ipython",
    "version": 3
   },
   "file_extension": ".py",
   "mimetype": "text/x-python",
   "name": "python",
   "nbconvert_exporter": "python",
   "pygments_lexer": "ipython3",
   "version": "3.11.4"
  }
 },
 "nbformat": 4,
 "nbformat_minor": 2
}
